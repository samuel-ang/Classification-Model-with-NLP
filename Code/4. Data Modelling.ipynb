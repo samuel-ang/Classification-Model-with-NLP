{
 "cells": [
  {
   "cell_type": "markdown",
   "id": "6eef5547",
   "metadata": {},
   "source": [
    "## 4. Data Modelling"
   ]
  },
  {
   "cell_type": "markdown",
   "id": "517f1455",
   "metadata": {},
   "source": [
    "### Import Libraries and Data"
   ]
  },
  {
   "cell_type": "code",
   "execution_count": 104,
   "id": "9b0a9d2e",
   "metadata": {},
   "outputs": [],
   "source": [
    "import pandas as pd\n",
    "import numpy as np\n",
    "import matplotlib.pyplot as plt\n",
    "import seaborn as sns\n",
    "\n",
    "import nltk \n",
    "from nltk.corpus import stopwords\n",
    "from wordcloud import WordCloud\n",
    "\n",
    "from sklearn.feature_extraction.text import CountVectorizer, TfidfVectorizer\n",
    "from sklearn.model_selection import cross_val_score, train_test_split, GridSearchCV\n",
    "from sklearn.pipeline import Pipeline\n",
    "from sklearn.linear_model import LogisticRegression\n",
    "from sklearn.naive_bayes import MultinomialNB\n",
    "from sklearn import metrics\n",
    "from sklearn.metrics import confusion_matrix, plot_confusion_matrix, plot_roc_curve\n",
    "from sklearn.ensemble import RandomForestClassifier, ExtraTreesClassifier"
   ]
  },
  {
   "cell_type": "code",
   "execution_count": 2,
   "id": "9567e669",
   "metadata": {},
   "outputs": [],
   "source": [
    "# Set plot theme \n",
    "plt.style.use('Solarize_Light2')"
   ]
  },
  {
   "cell_type": "code",
   "execution_count": 3,
   "id": "33662155",
   "metadata": {},
   "outputs": [],
   "source": [
    "# Import processed data\n",
    "df_processed = pd.read_csv('../Data/data_processed10.csv', index_col='Unnamed: 0')"
   ]
  },
  {
   "cell_type": "code",
   "execution_count": 4,
   "id": "25f2e3cc",
   "metadata": {},
   "outputs": [
    {
     "name": "stdout",
     "output_type": "stream",
     "text": [
      "<class 'pandas.core.frame.DataFrame'>\n",
      "Int64Index: 27620 entries, 0 to 27619\n",
      "Data columns (total 12 columns):\n",
      " #   Column           Non-Null Count  Dtype  \n",
      "---  ------           --------------  -----  \n",
      " 0   is_suicidewatch  27620 non-null  bool   \n",
      " 1   author           27620 non-null  object \n",
      " 2   num_comments     27620 non-null  int64  \n",
      " 3   score            27620 non-null  int64  \n",
      " 4   upvote_ratio     27620 non-null  float64\n",
      " 5   link_flair_text  27620 non-null  object \n",
      " 6   flair_group      27620 non-null  object \n",
      " 7   alltext          27620 non-null  object \n",
      " 8   repost           27620 non-null  bool   \n",
      " 9   dual_user        27620 non-null  bool   \n",
      " 10  clean_alltext    27620 non-null  object \n",
      " 11  word_count       27620 non-null  int64  \n",
      "dtypes: bool(3), float64(1), int64(3), object(5)\n",
      "memory usage: 2.2+ MB\n"
     ]
    }
   ],
   "source": [
    "# Get column names and check for null values\n",
    "df_processed.info()"
   ]
  },
  {
   "cell_type": "markdown",
   "id": "a3dfeee7",
   "metadata": {},
   "source": [
    "### Modelling"
   ]
  },
  {
   "cell_type": "markdown",
   "id": "95df2f56",
   "metadata": {},
   "source": [
    "We will start with a Logistic regression model, Multinomial Naive Bayes, and then a Random forest model.\n",
    "\n",
    "Firstly we would use Logistic Regression because it suits data that has lower bias but higher variance compared to Naive Bayes, and based on our understanding of our data, it has high variance given that there is quite a number of overlap between the top-20 words, and the df threshold had to be set high for significant results. Also we observed that there people who post in r/MentalHealth that are having suicidal thoughts.\n",
    "\n",
    "Next we would use Naive Bayes as a comparison, using the multinomial version because the variable values can be integers of more than 1.\n",
    "\n",
    "We will use Random Forest last, as Logistic Regression and Mulinomial Naive Bayes makes the assumption that variables are independent, but it is not a requirement for Random Forest, but Random Forest is prone to overfitting and takes longer to run. "
   ]
  },
  {
   "cell_type": "markdown",
   "id": "66f5f78f",
   "metadata": {},
   "source": [
    "Baseline model: there is a 44% baseline accuracy if all posts were to be assigned to r/SuicideWatch"
   ]
  },
  {
   "cell_type": "code",
   "execution_count": 5,
   "id": "25a369d5",
   "metadata": {},
   "outputs": [
    {
     "data": {
      "text/plain": [
       "False    0.560536\n",
       "True     0.439464\n",
       "Name: is_suicidewatch, dtype: float64"
      ]
     },
     "execution_count": 5,
     "metadata": {},
     "output_type": "execute_result"
    }
   ],
   "source": [
    "# Baseline score\n",
    "df_processed['is_suicidewatch'].value_counts(normalize=True)"
   ]
  },
  {
   "cell_type": "markdown",
   "id": "3d25be21",
   "metadata": {},
   "source": [
    "#### Set Feature (X) and Target (y) variables"
   ]
  },
  {
   "cell_type": "markdown",
   "id": "cd1610d4",
   "metadata": {},
   "source": [
    "Our features will be the cleaned text from subreddit title and posts, and the target will be `is_suicidewatch`, True = post is from r/SuicideWatch, False = post is from r/MentalHealth."
   ]
  },
  {
   "cell_type": "code",
   "execution_count": 101,
   "id": "64a09c69",
   "metadata": {},
   "outputs": [],
   "source": [
    "# Select Features\n",
    "X = df_processed['clean_alltext']\n",
    "y = df_processed['is_suicidewatch']"
   ]
  },
  {
   "cell_type": "code",
   "execution_count": 7,
   "id": "23d2b245",
   "metadata": {},
   "outputs": [],
   "source": [
    "X_train, X_test, y_train, y_test = train_test_split(X, y, random_state=42, stratify=y)"
   ]
  },
  {
   "cell_type": "code",
   "execution_count": 214,
   "id": "1fac706e",
   "metadata": {},
   "outputs": [],
   "source": [
    "# reload custom stopwords used in EDA\n",
    "custom_stopwords = stopwords.words('english') + ['suicide','mental','health','reddit','subreddit']"
   ]
  },
  {
   "cell_type": "markdown",
   "id": "65170032",
   "metadata": {},
   "source": [
    "#### Logistic Regression"
   ]
  },
  {
   "cell_type": "markdown",
   "id": "169f85fd",
   "metadata": {},
   "source": [
    "Firstly, we would run models using LogisticRegression, with two different vectorizers,  CountVectorizer and TfidfVectorizer."
   ]
  },
  {
   "cell_type": "code",
   "execution_count": 43,
   "id": "be5cca9d",
   "metadata": {},
   "outputs": [],
   "source": [
    "# Setup two pipelines for LogisticRegression, first with CountVectorizer and second with TfidfVectorizer\n",
    "pipe1 = Pipeline([('cvec1', CountVectorizer(stop_words= custom_stopwords)),\n",
    "                  ('logreg1', LogisticRegression())\n",
    "                 ])\n",
    "\n",
    "pipe2 = Pipeline([('tfvec2', TfidfVectorizer(stop_words= custom_stopwords)),\n",
    "                  ('logreg2', LogisticRegression())\n",
    "                 ])"
   ]
  },
  {
   "cell_type": "code",
   "execution_count": 44,
   "id": "df64072e",
   "metadata": {},
   "outputs": [],
   "source": [
    "# Set up \n",
    "pipe1_params = {'cvec1__max_features': [500, 1000],\n",
    "                'cvec1__max_df': [0.95, 0.97],\n",
    "                'cvec1__min_df': [0.05, 0.03],\n",
    "                'cvec1__ngram_range': [(1,1), (1,2)],\n",
    "                'logreg1__max_iter': [1000]\n",
    "               }\n",
    "\n",
    "pipe2_params = {'tfvec2__max_features': [500, 1000],\n",
    "                'tfvec2__max_df': [0.95, 0.97],\n",
    "                'tfvec2__min_df': [0.05, 0.03],\n",
    "                'tfvec2__ngram_range': [(1,1) , (1,2)],\n",
    "                'logreg2__max_iter': [1000]\n",
    "               }"
   ]
  },
  {
   "cell_type": "code",
   "execution_count": 45,
   "id": "a7170f5a",
   "metadata": {},
   "outputs": [],
   "source": [
    "# Creating two separate GridSearchCV objects for:\n",
    "# CountVectorizer and TfidfVectorizer\n",
    "gs_pipe1 = GridSearchCV(pipe1, param_grid=pipe1_params, cv=5, verbose=1, n_jobs=-1)\n",
    "gs_pipe2 = GridSearchCV(pipe2, param_grid=pipe2_params, cv=5, verbose=1, n_jobs=-1)"
   ]
  },
  {
   "cell_type": "code",
   "execution_count": 46,
   "id": "4cba610e",
   "metadata": {},
   "outputs": [
    {
     "name": "stdout",
     "output_type": "stream",
     "text": [
      "Fitting 5 folds for each of 16 candidates, totalling 80 fits\n"
     ]
    }
   ],
   "source": [
    "# Fitting GridSearchCV with CountVectorizer transformer on X_train and y_train.\n",
    "gs_pipe1.fit(X_train, y_train);"
   ]
  },
  {
   "cell_type": "code",
   "execution_count": 47,
   "id": "7d4879db",
   "metadata": {},
   "outputs": [
    {
     "name": "stdout",
     "output_type": "stream",
     "text": [
      "Fitting 5 folds for each of 16 candidates, totalling 80 fits\n"
     ]
    }
   ],
   "source": [
    "# Fitting GridSearchCV with TfidfVectorizer transformer on X_train and y_train.\n",
    "\n",
    "gs_pipe2.fit(X_train, y_train);"
   ]
  },
  {
   "cell_type": "code",
   "execution_count": 48,
   "id": "cd732e32",
   "metadata": {},
   "outputs": [
    {
     "data": {
      "text/plain": [
       "{'cvec1__max_df': 0.95,\n",
       " 'cvec1__max_features': 500,\n",
       " 'cvec1__min_df': 0.03,\n",
       " 'cvec1__ngram_range': (1, 1),\n",
       " 'logreg1__max_iter': 1000}"
      ]
     },
     "execution_count": 48,
     "metadata": {},
     "output_type": "execute_result"
    }
   ],
   "source": [
    "# Best combination of hyperparameters suggested by GridSearchCV for CountVectorizer transformer.\n",
    "gs_pipe1.best_params_"
   ]
  },
  {
   "cell_type": "code",
   "execution_count": 49,
   "id": "c0b95750",
   "metadata": {},
   "outputs": [
    {
     "data": {
      "text/plain": [
       "{'logreg2__max_iter': 1000,\n",
       " 'tfvec2__max_df': 0.95,\n",
       " 'tfvec2__max_features': 500,\n",
       " 'tfvec2__min_df': 0.03,\n",
       " 'tfvec2__ngram_range': (1, 2)}"
      ]
     },
     "execution_count": 49,
     "metadata": {},
     "output_type": "execute_result"
    }
   ],
   "source": [
    "# Best combination of hyperparameters suggested by GridSearchCV for TfidfVectorizer transformer.\n",
    "gs_pipe2.best_params_"
   ]
  },
  {
   "cell_type": "code",
   "execution_count": 50,
   "id": "76124708",
   "metadata": {},
   "outputs": [
    {
     "name": "stdout",
     "output_type": "stream",
     "text": [
      "CountVectorizer with LogisticRegression summary of accuracy scores:\n",
      "GridSearchCV best accuracy = 0.786\n",
      "\n",
      "Using GridSearchCV best params suggested,\n",
      "Training corpus accuracy = 0.8\n",
      "Testing corpus accuracy = 0.783\n"
     ]
    }
   ],
   "source": [
    "# Summary scores of CountVectorizer and LogisticRegression.\n",
    "print(\"CountVectorizer with LogisticRegression summary of accuracy scores:\")\n",
    "print(f\"GridSearchCV best accuracy = {round(gs_pipe1.best_score_, 3)}\")\n",
    "print(\"\\nUsing GridSearchCV best params suggested,\")\n",
    "print(f\"Training corpus accuracy = {round(gs_pipe1.score(X_train, y_train), 3)}\")\n",
    "print(f\"Testing corpus accuracy = {round(gs_pipe1.score(X_test, y_test), 3)}\")"
   ]
  },
  {
   "cell_type": "code",
   "execution_count": 51,
   "id": "db560f66",
   "metadata": {},
   "outputs": [
    {
     "name": "stdout",
     "output_type": "stream",
     "text": [
      "TfidfVectorizer with LogisticRegression summary of accuracy scores:\n",
      "GridSearchCV best accuracy = 0.792\n",
      "\n",
      "Using GridSearchCV best params suggested,\n",
      "Training corpus accuracy = 0.802\n",
      "Testing corpus accuracy = 0.792\n"
     ]
    }
   ],
   "source": [
    "# Summary scores of TfidfVectorizer and LogisticRegression.\n",
    "print(\"TfidfVectorizer with LogisticRegression summary of accuracy scores:\")\n",
    "print(f\"GridSearchCV best accuracy = {round(gs_pipe2.best_score_, 3)}\")\n",
    "print(\"\\nUsing GridSearchCV best params suggested,\")\n",
    "print(f\"Training corpus accuracy = {round(gs_pipe2.score(X_train, y_train), 3)}\")\n",
    "print(f\"Testing corpus accuracy = {round(gs_pipe2.score(X_test, y_test), 3)}\")"
   ]
  },
  {
   "cell_type": "code",
   "execution_count": 79,
   "id": "e0a9c203",
   "metadata": {},
   "outputs": [],
   "source": [
    "# Creacting a summary dataframe.\n",
    "summary_df = pd.DataFrame(columns=[\n",
    "    'transformer_estimator', \n",
    "    'best_score', \n",
    "    'accuracy', \n",
    "    'sensitivity',\n",
    "    'specificity',\n",
    "    'best_params', \n",
    "])"
   ]
  },
  {
   "cell_type": "code",
   "execution_count": 81,
   "id": "687d5028",
   "metadata": {},
   "outputs": [
    {
     "name": "stderr",
     "output_type": "stream",
     "text": [
      "C:\\Users\\deang\\anaconda3\\envs\\dsi\\lib\\site-packages\\sklearn\\utils\\deprecation.py:87: FutureWarning: Function plot_confusion_matrix is deprecated; Function `plot_confusion_matrix` is deprecated in 1.0 and will be removed in 1.2. Use one of the class methods: ConfusionMatrixDisplay.from_predictions or ConfusionMatrixDisplay.from_estimator.\n",
      "  warnings.warn(msg, category=FutureWarning)\n"
     ]
    },
    {
     "data": {
      "image/png": "[encoded data removed]",
      "text/plain": [
       "<Figure size 432x288 with 2 Axes>"
      ]
     },
     "metadata": {},
     "output_type": "display_data"
    }
   ],
   "source": [
    "#Generate confusion matrix\n",
    "y_pred = gs_pipe1.predict(X_test)\n",
    "confusion_matrix(y_test, # True values.\n",
    "                 y_pred)  # Predicted values.\n",
    "tn, fp, fn, tp = confusion_matrix(y_test, y_pred).ravel();\n",
    "\n",
    "# Adding the scores into summary_df\n",
    "summary_df.loc[1] = [\n",
    "    'CountVec | LogisticRegression',\n",
    "    round(gs_pipe1.best_score_, 3),\n",
    "    round(metrics.accuracy_score(y_test, y_pred),3),\n",
    "    round(metrics.recall_score(y_test, y_pred),3),\n",
    "    round(tn/(tn+fp),3),\n",
    "    str(gs_pipe1.best_params_),\n",
    "]\n",
    "\n",
    "# Plot Confusion Matrix\n",
    "plot_confusion_matrix(gs_pipe1, X_test, y_test, cmap='Blues', \n",
    "                      display_labels=['r/MentalHealth', 'r/SuicideWatch'],\n",
    "                      normalize='true');  \n",
    "plt.title(label=\"Model 1: CountVec | Logistic Regression\", fontsize=14)\n",
    "plt.grid(False)"
   ]
  },
  {
   "cell_type": "code",
   "execution_count": 82,
   "id": "91f06c1d",
   "metadata": {},
   "outputs": [
    {
     "name": "stderr",
     "output_type": "stream",
     "text": [
      "C:\\Users\\deang\\anaconda3\\envs\\dsi\\lib\\site-packages\\sklearn\\utils\\deprecation.py:87: FutureWarning: Function plot_confusion_matrix is deprecated; Function `plot_confusion_matrix` is deprecated in 1.0 and will be removed in 1.2. Use one of the class methods: ConfusionMatrixDisplay.from_predictions or ConfusionMatrixDisplay.from_estimator.\n",
      "  warnings.warn(msg, category=FutureWarning)\n"
     ]
    },
    {
     "data": {
      "image/png": "[encoded data removed]",
      "text/plain": [
       "<Figure size 432x288 with 2 Axes>"
      ]
     },
     "metadata": {},
     "output_type": "display_data"
    }
   ],
   "source": [
    "#Generate confusion matrix\n",
    "y_pred = gs_pipe2.predict(X_test)\n",
    "confusion_matrix(y_test, # True values.\n",
    "                 y_pred)  # Predicted values.\n",
    "tn, fp, fn, tp = confusion_matrix(y_test, y_pred).ravel();\n",
    "\n",
    "# Adding the scores into summary_df.\n",
    "summary_df.loc[2] = [\n",
    "    'TfidfVec | LogisticRegression',\n",
    "    round(gs_pipe2.best_score_, 3),\n",
    "    round(metrics.accuracy_score(y_test, y_pred),3),\n",
    "    round(metrics.recall_score(y_test, y_pred),3),\n",
    "    round(tn/(tn+fp),3),\n",
    "    str(gs_pipe2.best_params_),\n",
    "]\n",
    "\n",
    "# Plot Confusion Matrix\n",
    "plot_confusion_matrix(gs_pipe2, X_test, y_test, cmap='Blues', \n",
    "                      display_labels=['r/MentalHealth', 'r/SuicideWatch'],\n",
    "                      normalize='true');  \n",
    "plt.title(label=\"Model 2: TfidfVec | Logistic Regression\", fontsize=14)\n",
    "plt.grid(False)"
   ]
  },
  {
   "cell_type": "code",
   "execution_count": 83,
   "id": "3976c82a",
   "metadata": {},
   "outputs": [
    {
     "data": {
      "text/html": [
       "<div>\n",
       "<style scoped>\n",
       "    .dataframe tbody tr th:only-of-type {\n",
       "        vertical-align: middle;\n",
       "    }\n",
       "\n",
       "    .dataframe tbody tr th {\n",
       "        vertical-align: top;\n",
       "    }\n",
       "\n",
       "    .dataframe thead th {\n",
       "        text-align: right;\n",
       "    }\n",
       "</style>\n",
       "<table border=\"1\" class=\"dataframe\">\n",
       "  <thead>\n",
       "    <tr style=\"text-align: right;\">\n",
       "      <th></th>\n",
       "      <th>transformer_estimator</th>\n",
       "      <th>best_score</th>\n",
       "      <th>accuracy</th>\n",
       "      <th>sensitivity</th>\n",
       "      <th>specificity</th>\n",
       "      <th>best_params</th>\n",
       "    </tr>\n",
       "  </thead>\n",
       "  <tbody>\n",
       "    <tr>\n",
       "      <th>1</th>\n",
       "      <td>CountVec | LogisticRegression</td>\n",
       "      <td>0.786</td>\n",
       "      <td>0.783</td>\n",
       "      <td>0.751</td>\n",
       "      <td>0.808</td>\n",
       "      <td>{'cvec1__max_df': 0.95, 'cvec1__max_features':...</td>\n",
       "    </tr>\n",
       "    <tr>\n",
       "      <th>2</th>\n",
       "      <td>TfidfVec | LogisticRegression</td>\n",
       "      <td>0.792</td>\n",
       "      <td>0.792</td>\n",
       "      <td>0.739</td>\n",
       "      <td>0.834</td>\n",
       "      <td>{'logreg2__max_iter': 1000, 'tfvec2__max_df': ...</td>\n",
       "    </tr>\n",
       "  </tbody>\n",
       "</table>\n",
       "</div>"
      ],
      "text/plain": [
       "           transformer_estimator  best_score  accuracy  sensitivity  \\\n",
       "1  CountVec | LogisticRegression       0.786     0.783        0.751   \n",
       "2  TfidfVec | LogisticRegression       0.792     0.792        0.739   \n",
       "\n",
       "   specificity                                        best_params  \n",
       "1        0.808  {'cvec1__max_df': 0.95, 'cvec1__max_features':...  \n",
       "2        0.834  {'logreg2__max_iter': 1000, 'tfvec2__max_df': ...  "
      ]
     },
     "execution_count": 83,
     "metadata": {},
     "output_type": "execute_result"
    }
   ],
   "source": [
    "summary_df"
   ]
  },
  {
   "cell_type": "markdown",
   "id": "71066fb3",
   "metadata": {},
   "source": [
    "We find that TfidfVec has better Accuracy and Specificity compared to CountVec. TF-IDF considers the frequency of words relative to the total size of the document, as opposed to CountVec which does a simple count."
   ]
  },
  {
   "cell_type": "markdown",
   "id": "cd226da6",
   "metadata": {},
   "source": [
    "#### Model 3: MultinomialNB"
   ]
  },
  {
   "cell_type": "markdown",
   "id": "8bdd0858",
   "metadata": {},
   "source": [
    "Next, we would run a model using MultinomialNB. We would choose TfidfVec as the vectorizer as it was the better performing one in the previous section."
   ]
  },
  {
   "cell_type": "code",
   "execution_count": 12,
   "id": "8f7337f8",
   "metadata": {},
   "outputs": [
    {
     "name": "stdout",
     "output_type": "stream",
     "text": [
      "ERROR! Session/line number was not unique in database. History logging moved to new session 671\n"
     ]
    }
   ],
   "source": [
    "# Set up MultinomialNB and TfidfVectorizer pipeline\n",
    "pipe3 = Pipeline([\n",
    "    ('tfvec3', TfidfVectorizer(stop_words= custom_stopwords)),\n",
    "    ('nb3', MultinomialNB())\n",
    "])"
   ]
  },
  {
   "cell_type": "code",
   "execution_count": 13,
   "id": "a87e8ed7",
   "metadata": {},
   "outputs": [],
   "source": [
    "# Define parameters\n",
    "pipe_params3 = {\n",
    "    'tfvec3__max_features': [300, 500, 700],\n",
    "    'tfvec3__min_df': [.05, .03],\n",
    "    'tfvec3__max_df': [.95, .97],\n",
    "    'tfvec3__ngram_range': [(1,1), (1,2)],\n",
    "    'nb3__alpha': [0.1, 0.37, 0.5]\n",
    "}"
   ]
  },
  {
   "cell_type": "code",
   "execution_count": 14,
   "id": "b5486377",
   "metadata": {},
   "outputs": [],
   "source": [
    "# Instantiate GridSearchCV.\n",
    "gs_pipe3 = GridSearchCV(pipe3, \n",
    "                  param_grid=pipe_params3,\n",
    "                  cv=5, \n",
    "                   verbose=1,\n",
    "                   n_jobs=-1\n",
    "                  )"
   ]
  },
  {
   "cell_type": "code",
   "execution_count": 15,
   "id": "9f627299",
   "metadata": {
    "collapsed": true
   },
   "outputs": [
    {
     "name": "stdout",
     "output_type": "stream",
     "text": [
      "Fitting 5 folds for each of 72 candidates, totalling 360 fits\n"
     ]
    },
    {
     "data": {
      "text/plain": [
       "GridSearchCV(cv=5,\n",
       "             estimator=Pipeline(steps=[('tfvec3',\n",
       "                                        TfidfVectorizer(stop_words=['i', 'me',\n",
       "                                                                    'my',\n",
       "                                                                    'myself',\n",
       "                                                                    'we', 'our',\n",
       "                                                                    'ours',\n",
       "                                                                    'ourselves',\n",
       "                                                                    'you',\n",
       "                                                                    \"you're\",\n",
       "                                                                    \"you've\",\n",
       "                                                                    \"you'll\",\n",
       "                                                                    \"you'd\",\n",
       "                                                                    'your',\n",
       "                                                                    'yours',\n",
       "                                                                    'yourself',\n",
       "                                                                    'yourselves',\n",
       "                                                                    'he', 'him',\n",
       "                                                                    'his',\n",
       "                                                                    'himself',\n",
       "                                                                    'she',\n",
       "                                                                    \"she's\",\n",
       "                                                                    'her',\n",
       "                                                                    'hers',\n",
       "                                                                    'herself',\n",
       "                                                                    'it',\n",
       "                                                                    \"it's\",\n",
       "                                                                    'its',\n",
       "                                                                    'itself', ...])),\n",
       "                                       ('nb3', MultinomialNB())]),\n",
       "             n_jobs=-1,\n",
       "             param_grid={'nb3__alpha': [0.1, 0.37, 0.5],\n",
       "                         'tfvec3__max_df': [0.95, 0.97],\n",
       "                         'tfvec3__max_features': [300, 500, 700],\n",
       "                         'tfvec3__min_df': [0.05, 0.03],\n",
       "                         'tfvec3__ngram_range': [(1, 1), (1, 2)]},\n",
       "             verbose=1)"
      ]
     },
     "execution_count": 15,
     "metadata": {},
     "output_type": "execute_result"
    }
   ],
   "source": [
    "# Fit GridSearch to training data.\n",
    "gs_pipe3.fit(X_train, y_train)"
   ]
  },
  {
   "cell_type": "code",
   "execution_count": 17,
   "id": "06f0756a",
   "metadata": {},
   "outputs": [
    {
     "name": "stdout",
     "output_type": "stream",
     "text": [
      "{'nb3__alpha': 0.37, 'tfvec3__max_df': 0.95, 'tfvec3__max_features': 500, 'tfvec3__min_df': 0.03, 'tfvec3__ngram_range': (1, 2)}\n"
     ]
    }
   ],
   "source": [
    "# Best parameters of TfidfVectorizer and MultinomialNB.\n",
    "print(gs_pipe3.best_params_)"
   ]
  },
  {
   "cell_type": "code",
   "execution_count": 92,
   "id": "f40674d7",
   "metadata": {},
   "outputs": [
    {
     "name": "stdout",
     "output_type": "stream",
     "text": [
      "TfidfVectorizer with MultinomialNB summary of accuracy scores:\n",
      "GridSearchCV best accuracy = 0.774\n",
      "\n",
      "Using GridSearchCV best params suggested,\n",
      "Training corpus accuracy = 0.779\n",
      "Testing corpus accuracy = 0.775\n"
     ]
    }
   ],
   "source": [
    "# Summary scores of TfidfVectorizer and MultinomialNB.\n",
    "print(\"TfidfVectorizer with MultinomialNB summary of accuracy scores:\")\n",
    "print(f\"GridSearchCV best accuracy = {round(gs_pipe3.best_score_, 3)}\")\n",
    "print(\"\\nUsing GridSearchCV best params suggested,\")\n",
    "print(f\"Training corpus accuracy = {round(gs_pipe3.score(X_train, y_train), 3)}\")\n",
    "print(f\"Testing corpus accuracy = {round(gs_pipe3.score(X_test, y_test), 3)}\")"
   ]
  },
  {
   "cell_type": "code",
   "execution_count": 19,
   "id": "f59e25b3",
   "metadata": {},
   "outputs": [
    {
     "data": {
      "text/plain": [
       "TfidfVectorizer(max_df=0.95, max_features=500, min_df=0.03, ngram_range=(1, 2),\n",
       "                stop_words=['i', 'me', 'my', 'myself', 'we', 'our', 'ours',\n",
       "                            'ourselves', 'you', \"you're\", \"you've\", \"you'll\",\n",
       "                            \"you'd\", 'your', 'yours', 'yourself', 'yourselves',\n",
       "                            'he', 'him', 'his', 'himself', 'she', \"she's\",\n",
       "                            'her', 'hers', 'herself', 'it', \"it's\", 'its',\n",
       "                            'itself', ...])"
      ]
     },
     "execution_count": 19,
     "metadata": {},
     "output_type": "execute_result"
    }
   ],
   "source": [
    "gs_pipe3.best_estimator_[0]"
   ]
  },
  {
   "cell_type": "code",
   "execution_count": 20,
   "id": "49dbbabd",
   "metadata": {
    "collapsed": true
   },
   "outputs": [
    {
     "data": {
      "text/plain": [
       "array(['10', 'able', 'absolutely', 'actually', 'advice', 'afraid', 'age',\n",
       "       'ago', 'alive', 'almost', 'alone', 'already', 'also', 'always',\n",
       "       'angry', 'another', 'anxiety', 'anxious', 'anymore', 'anyone',\n",
       "       'anyone else', 'anything', 'anyway', 'around', 'ask', 'asked',\n",
       "       'asking', 'away', 'back', 'bad', 'barely', 'basically', 'become',\n",
       "       'bed', 'believe', 'best', 'better', 'big', 'bit', 'body',\n",
       "       'boyfriend', 'brain', 'break', 'bring', 'broke', 'brother', 'call',\n",
       "       'called', 'came', 'cannot', 'cannot even', 'car', 'care', 'change',\n",
       "       'child', 'close', 'college', 'come', 'comes', 'coming',\n",
       "       'completely', 'constant', 'constantly', 'control', 'could',\n",
       "       'couple', 'cry', 'crying', 'currently', 'cut', 'dad', 'day',\n",
       "       'days', 'dead', 'deal', 'death', 'decided', 'depressed',\n",
       "       'depression', 'deserve', 'diagnosed', 'die', 'different',\n",
       "       'disorder', 'done', 'due', 'eat', 'eating', 'either', 'else',\n",
       "       'emotions', 'end', 'ended', 'energy', 'enjoy', 'enough', 'entire',\n",
       "       'especially', 'etc', 'even', 'even know', 'even though',\n",
       "       'eventually', 'ever', 'every', 'every day', 'every time',\n",
       "       'everyday', 'everyone', 'everything', 'experience', 'extremely',\n",
       "       'face', 'fact', 'family', 'far', 'fear', 'feel', 'feel like',\n",
       "       'feeling', 'feelings', 'feels', 'feels like', 'felt', 'felt like',\n",
       "       'finally', 'find', 'fine', 'first', 'found', 'free', 'friend',\n",
       "       'friends', 'fuck', 'fucked', 'fucking', 'full', 'future', 'gave',\n",
       "       'get', 'get better', 'gets', 'getting', 'girl', 'girlfriend',\n",
       "       'give', 'go', 'god', 'goes', 'going', 'gone', 'good', 'got',\n",
       "       'gotten', 'great', 'guess', 'guy', 'guys', 'half', 'handle',\n",
       "       'happen', 'happened', 'happening', 'happens', 'happy', 'hard',\n",
       "       'harm', 'hate', 'head', 'hear', 'heart', 'hell', 'help', 'hi',\n",
       "       'high', 'hit', 'home', 'honestly', 'hope', 'horrible', 'hospital',\n",
       "       'hours', 'house', 'however', 'hurt', 'hurts', 'idea', 'idk',\n",
       "       'inside', 'instead', 'issues', 'job', 'keep', 'kid', 'kill',\n",
       "       'killing', 'kind', 'knew', 'know', 'knowing', 'knows', 'last',\n",
       "       'lately', 'later', 'least', 'leave', 'left', 'less', 'let', 'life',\n",
       "       'like', 'literally', 'little', 'live', 'living', 'lonely', 'long',\n",
       "       'longer', 'look', 'looking', 'lose', 'losing', 'lost', 'lot',\n",
       "       'love', 'loved', 'made', 'make', 'makes', 'making', 'man', 'many',\n",
       "       'matter', 'may', 'maybe', 'mean', 'medication', 'meds', 'mentally',\n",
       "       'might', 'mind', 'mom', 'moment', 'money', 'month', 'months',\n",
       "       'morning', 'mother', 'move', 'much', 'need', 'need help', 'needed',\n",
       "       'never', 'new', 'next', 'nice', 'night', 'nobody', 'normal',\n",
       "       'nothing', 'often', 'okay', 'old', 'one', 'ones', 'online', 'open',\n",
       "       'others', 'outside', 'pain', 'panic', 'parents', 'part', 'past',\n",
       "       'people', 'person', 'phone', 'physically', 'place', 'plan',\n",
       "       'please', 'point', 'possible', 'post', 'pretty', 'probably',\n",
       "       'problem', 'problems', 'put', 'quite', 'read', 'reading', 'real',\n",
       "       'really', 'really want', 'reason', 'recently', 'relationship',\n",
       "       'remember', 'rest', 'right', 'room', 'sad', 'said', 'say',\n",
       "       'saying', 'says', 'scared', 'school', 'second', 'see', 'seeing',\n",
       "       'seem', 'seems', 'seen', 'self', 'sense', 'shit', 'short', 'sick',\n",
       "       'side', 'since', 'single', 'situation', 'sleep', 'small', 'social',\n",
       "       'someone', 'something', 'sometimes', 'soon', 'sorry', 'start',\n",
       "       'started', 'starting', 'state', 'stay', 'still', 'stop', 'stopped',\n",
       "       'stress', 'struggle', 'struggling', 'stuck', 'stuff', 'stupid',\n",
       "       'suffering', 'suicidal', 'suicidal thoughts', 'support',\n",
       "       'supposed', 'sure', 'take', 'taken', 'taking', 'talk', 'talked',\n",
       "       'talking', 'tell', 'telling', 'terrible', 'thank', 'thanks',\n",
       "       'therapist', 'therapy', 'thing', 'things', 'think', 'thinking',\n",
       "       'though', 'thought', 'thoughts', 'time', 'times', 'tired', 'today',\n",
       "       'together', 'told', 'took', 'trauma', 'tried', 'truly', 'try',\n",
       "       'trying', 'turn', 'two', 'understand', 'us', 'use', 'used',\n",
       "       'usually', 'wake', 'want', 'want die', 'wanted', 'wanting',\n",
       "       'wants', 'way', 'week', 'weeks', 'weird', 'well', 'went',\n",
       "       'whatever', 'whenever', 'whole', 'wish', 'without', 'words',\n",
       "       'work', 'working', 'world', 'worried', 'worse', 'worst', 'worth',\n",
       "       'would', 'wrong', 'year', 'years', 'years ago', 'yet'],\n",
       "      dtype=object)"
      ]
     },
     "execution_count": 20,
     "metadata": {},
     "output_type": "execute_result"
    }
   ],
   "source": [
    "gs_pipe3.best_estimator_[0].get_feature_names_out()"
   ]
  },
  {
   "cell_type": "code",
   "execution_count": 21,
   "id": "3a0eac98",
   "metadata": {},
   "outputs": [
    {
     "data": {
      "text/plain": [
       "423"
      ]
     },
     "execution_count": 21,
     "metadata": {},
     "output_type": "execute_result"
    }
   ],
   "source": [
    "len(gs_pipe3.best_estimator_[1].coef_.tolist()[0])"
   ]
  },
  {
   "cell_type": "code",
   "execution_count": 23,
   "id": "9c006083",
   "metadata": {},
   "outputs": [],
   "source": [
    "gs_pipe3.best_estimator_[1].coef_\n",
    "feature_list = []\n",
    "for x, y in zip(gs_pipe3.best_estimator_[0].get_feature_names_out(), \n",
    "                gs_pipe3.best_estimator_[1].coef_.tolist()[0]) :\n",
    "    feature_list.append([x,y])\n",
    "\n",
    "#if using logistic regr you can sort this by the coeff to see which one is most impactfulf"
   ]
  },
  {
   "cell_type": "code",
   "execution_count": 24,
   "id": "e741655c",
   "metadata": {},
   "outputs": [],
   "source": [
    "feature_df = pd.DataFrame(feature_list, columns=['feature','coef'])"
   ]
  },
  {
   "cell_type": "code",
   "execution_count": 25,
   "id": "c4518d1b",
   "metadata": {},
   "outputs": [
    {
     "data": {
      "text/html": [
       "<div>\n",
       "<style scoped>\n",
       "    .dataframe tbody tr th:only-of-type {\n",
       "        vertical-align: middle;\n",
       "    }\n",
       "\n",
       "    .dataframe tbody tr th {\n",
       "        vertical-align: top;\n",
       "    }\n",
       "\n",
       "    .dataframe thead th {\n",
       "        text-align: right;\n",
       "    }\n",
       "</style>\n",
       "<table border=\"1\" class=\"dataframe\">\n",
       "  <thead>\n",
       "    <tr style=\"text-align: right;\">\n",
       "      <th></th>\n",
       "      <th>feature</th>\n",
       "      <th>coef</th>\n",
       "    </tr>\n",
       "  </thead>\n",
       "  <tbody>\n",
       "    <tr>\n",
       "      <th>393</th>\n",
       "      <td>want</td>\n",
       "      <td>-4.110029</td>\n",
       "    </tr>\n",
       "    <tr>\n",
       "      <th>209</th>\n",
       "      <td>life</td>\n",
       "      <td>-4.362837</td>\n",
       "    </tr>\n",
       "    <tr>\n",
       "      <th>49</th>\n",
       "      <td>cannot</td>\n",
       "      <td>-4.417985</td>\n",
       "    </tr>\n",
       "    <tr>\n",
       "      <th>210</th>\n",
       "      <td>like</td>\n",
       "      <td>-4.489916</td>\n",
       "    </tr>\n",
       "    <tr>\n",
       "      <th>117</th>\n",
       "      <td>feel</td>\n",
       "      <td>-4.528787</td>\n",
       "    </tr>\n",
       "    <tr>\n",
       "      <th>198</th>\n",
       "      <td>know</td>\n",
       "      <td>-4.639818</td>\n",
       "    </tr>\n",
       "    <tr>\n",
       "      <th>417</th>\n",
       "      <td>would</td>\n",
       "      <td>-4.647249</td>\n",
       "    </tr>\n",
       "    <tr>\n",
       "      <th>81</th>\n",
       "      <td>die</td>\n",
       "      <td>-4.725680</td>\n",
       "    </tr>\n",
       "    <tr>\n",
       "      <th>18</th>\n",
       "      <td>anymore</td>\n",
       "      <td>-4.749985</td>\n",
       "    </tr>\n",
       "    <tr>\n",
       "      <th>149</th>\n",
       "      <td>going</td>\n",
       "      <td>-4.753205</td>\n",
       "    </tr>\n",
       "  </tbody>\n",
       "</table>\n",
       "</div>"
      ],
      "text/plain": [
       "     feature      coef\n",
       "393     want -4.110029\n",
       "209     life -4.362837\n",
       "49    cannot -4.417985\n",
       "210     like -4.489916\n",
       "117     feel -4.528787\n",
       "198     know -4.639818\n",
       "417    would -4.647249\n",
       "81       die -4.725680\n",
       "18   anymore -4.749985\n",
       "149    going -4.753205"
      ]
     },
     "execution_count": 25,
     "metadata": {},
     "output_type": "execute_result"
    }
   ],
   "source": [
    "# Top Features by coefficients\n",
    "feature_df.sort_values('coef', ascending=False).head(10)"
   ]
  },
  {
   "cell_type": "code",
   "execution_count": 84,
   "id": "667b5124",
   "metadata": {},
   "outputs": [
    {
     "name": "stderr",
     "output_type": "stream",
     "text": [
      "C:\\Users\\deang\\anaconda3\\envs\\dsi\\lib\\site-packages\\sklearn\\utils\\deprecation.py:87: FutureWarning: Function plot_confusion_matrix is deprecated; Function `plot_confusion_matrix` is deprecated in 1.0 and will be removed in 1.2. Use one of the class methods: ConfusionMatrixDisplay.from_predictions or ConfusionMatrixDisplay.from_estimator.\n",
      "  warnings.warn(msg, category=FutureWarning)\n"
     ]
    },
    {
     "data": {
      "image/png": "[encoded data removed]",
      "text/plain": [
       "<Figure size 432x288 with 2 Axes>"
      ]
     },
     "metadata": {},
     "output_type": "display_data"
    }
   ],
   "source": [
    "# Generate confusion matrix\n",
    "y_pred = gs_pipe3.predict(X_test)\n",
    "confusion_matrix(y_test, # True values.\n",
    "                 y_pred)  # Predicted values.\n",
    "tn, fp, fn, tp = confusion_matrix(y_test, y_pred).ravel();\n",
    "\n",
    "# Adding the scores into summary_df.\n",
    "summary_df.loc[3] = [\n",
    "    'TfidfVec | MultinomialNB',\n",
    "    round(gs_pipe3.best_score_, 3),\n",
    "    round(metrics.accuracy_score(y_test, y_pred),3),\n",
    "    round(metrics.recall_score(y_test, y_pred),3),\n",
    "    round(tn/(tn+fp),3),\n",
    "    str(gs_pipe3.best_params_),\n",
    "]\n",
    "\n",
    "# Plot Confusion Matrix\n",
    "plot_confusion_matrix(gs_pipe3, X_test, y_test, cmap='Blues', \n",
    "                      display_labels=['r/MentalHealth', 'r/SuicideWatch'],\n",
    "                      normalize='true');  \n",
    "plt.title(label=\"Model 3: TfidfVec | MultinomialNB\", fontsize=14)\n",
    "plt.grid(False)"
   ]
  },
  {
   "cell_type": "markdown",
   "id": "f1583186",
   "metadata": {},
   "source": [
    "### RandomForest"
   ]
  },
  {
   "cell_type": "markdown",
   "id": "3b8d9129",
   "metadata": {},
   "source": [
    "We will now do a Random Forest test with features from the dataset and Sentiment and LDA features. We would use the optimal parameters for TfidfVectorizer from model 3."
   ]
  },
  {
   "cell_type": "code",
   "execution_count": 28,
   "id": "ec5b7181",
   "metadata": {},
   "outputs": [],
   "source": [
    "#Create an instance of `RandomForestClassifier`\n",
    "pipe4 = Pipeline([('tfvec4', TfidfVectorizer(stop_words= custom_stopwords)),\n",
    "                  ('rf', RandomForestClassifier())\n",
    "                 ])"
   ]
  },
  {
   "cell_type": "code",
   "execution_count": 57,
   "id": "020cd096",
   "metadata": {},
   "outputs": [],
   "source": [
    "# Define parameters for GridSearchCV 200, 300, \n",
    "pipe4_params = {\n",
    "    'tfvec4__max_df': [0.95], \n",
    "    'tfvec4__max_features': [500], \n",
    "    'tfvec4__min_df': [0.03], \n",
    "    'tfvec4__ngram_range': [(1, 2)],\n",
    "    'rf__n_estimators': [200, 300, 400],\n",
    "    'rf__max_features': ['sqrt']\n",
    "    ,\n",
    "}"
   ]
  },
  {
   "cell_type": "code",
   "execution_count": 58,
   "id": "2e998742",
   "metadata": {
    "collapsed": true
   },
   "outputs": [
    {
     "name": "stdout",
     "output_type": "stream",
     "text": [
      "Fitting 5 folds for each of 1 candidates, totalling 5 fits\n"
     ]
    },
    {
     "data": {
      "text/plain": [
       "GridSearchCV(cv=5,\n",
       "             estimator=Pipeline(steps=[('tfvec4',\n",
       "                                        TfidfVectorizer(stop_words=['i', 'me',\n",
       "                                                                    'my',\n",
       "                                                                    'myself',\n",
       "                                                                    'we', 'our',\n",
       "                                                                    'ours',\n",
       "                                                                    'ourselves',\n",
       "                                                                    'you',\n",
       "                                                                    \"you're\",\n",
       "                                                                    \"you've\",\n",
       "                                                                    \"you'll\",\n",
       "                                                                    \"you'd\",\n",
       "                                                                    'your',\n",
       "                                                                    'yours',\n",
       "                                                                    'yourself',\n",
       "                                                                    'yourselves',\n",
       "                                                                    'he', 'him',\n",
       "                                                                    'his',\n",
       "                                                                    'himself',\n",
       "                                                                    'she',\n",
       "                                                                    \"she's\",\n",
       "                                                                    'her',\n",
       "                                                                    'hers',\n",
       "                                                                    'herself',\n",
       "                                                                    'it',\n",
       "                                                                    \"it's\",\n",
       "                                                                    'its',\n",
       "                                                                    'itself', ...])),\n",
       "                                       ('rf', RandomForestClassifier())]),\n",
       "             n_jobs=-1,\n",
       "             param_grid={'rf__max_features': ['sqrt'],\n",
       "                         'rf__n_estimators': [400], 'tfvec4__max_df': [0.95],\n",
       "                         'tfvec4__max_features': [500],\n",
       "                         'tfvec4__min_df': [0.03],\n",
       "                         'tfvec4__ngram_range': [(1, 2)]},\n",
       "             verbose=1)"
      ]
     },
     "execution_count": 58,
     "metadata": {},
     "output_type": "execute_result"
    }
   ],
   "source": [
    "gs_pipe4 = GridSearchCV(pipe4, \n",
    "                  param_grid=pipe4_params, \n",
    "                  cv=5,\n",
    "                    verbose=1,\n",
    "                   n_jobs=-1\n",
    "                 )\n",
    "gs_pipe4.fit(X_train, y_train)\n"
   ]
  },
  {
   "cell_type": "code",
   "execution_count": 89,
   "id": "5e94da83",
   "metadata": {},
   "outputs": [
    {
     "data": {
      "text/plain": [
       "{'rf__max_features': 'sqrt',\n",
       " 'rf__n_estimators': 400,\n",
       " 'tfvec4__max_df': 0.95,\n",
       " 'tfvec4__max_features': 500,\n",
       " 'tfvec4__min_df': 0.03,\n",
       " 'tfvec4__ngram_range': (1, 2)}"
      ]
     },
     "execution_count": 89,
     "metadata": {},
     "output_type": "execute_result"
    }
   ],
   "source": [
    "gs_pipe4.best_params_"
   ]
  },
  {
   "cell_type": "code",
   "execution_count": 90,
   "id": "90b9f779",
   "metadata": {},
   "outputs": [
    {
     "name": "stdout",
     "output_type": "stream",
     "text": [
      "TfidfVectorizer with RandomForest summary of accuracy scores:\n",
      "GridSearchCV best accuracy = 0.781\n",
      "\n",
      "Using GridSearchCV best params suggested,\n",
      "Training corpus accuracy = 0.998\n",
      "Testing corpus accuracy = 0.776\n"
     ]
    }
   ],
   "source": [
    "# Summary scores of TfidfVectorizer and RandomForest.\n",
    "print(\"TfidfVectorizer with RandomForest summary of accuracy scores:\")\n",
    "print(f\"GridSearchCV best accuracy = {round(gs_pipe4.best_score_, 3)}\")\n",
    "print(\"\\nUsing GridSearchCV best params suggested,\")\n",
    "print(f\"Training corpus accuracy = {round(gs_pipe4.score(X_train, y_train), 3)}\")\n",
    "print(f\"Testing corpus accuracy = {round(gs_pipe4.score(X_test, y_test), 3)}\")"
   ]
  },
  {
   "cell_type": "code",
   "execution_count": 85,
   "id": "aa837129",
   "metadata": {},
   "outputs": [
    {
     "name": "stderr",
     "output_type": "stream",
     "text": [
      "C:\\Users\\deang\\anaconda3\\envs\\dsi\\lib\\site-packages\\sklearn\\utils\\deprecation.py:87: FutureWarning: Function plot_confusion_matrix is deprecated; Function `plot_confusion_matrix` is deprecated in 1.0 and will be removed in 1.2. Use one of the class methods: ConfusionMatrixDisplay.from_predictions or ConfusionMatrixDisplay.from_estimator.\n",
      "  warnings.warn(msg, category=FutureWarning)\n"
     ]
    },
    {
     "data": {
      "image/png": "[encoded data removed]",
      "text/plain": [
       "<Figure size 432x288 with 2 Axes>"
      ]
     },
     "metadata": {},
     "output_type": "display_data"
    }
   ],
   "source": [
    "# Generate confusion matrix\n",
    "y_pred = gs_pipe4.predict(X_test)\n",
    "confusion_matrix(y_test, # True values.\n",
    "                 y_pred)  # Predicted values.\n",
    "tn, fp, fn, tp = confusion_matrix(y_test, y_pred).ravel();\n",
    "\n",
    "# Adding the scores into summary_df.\n",
    "summary_df.loc[4] = [\n",
    "    'TfidfVec | RandomForest',\n",
    "    round(gs_pipe4.best_score_, 3),\n",
    "    round(metrics.accuracy_score(y_test, y_pred),3),\n",
    "    round(metrics.recall_score(y_test, y_pred),3),\n",
    "    round(tn/(tn+fp),3),\n",
    "    str(gs_pipe4.best_params_),\n",
    "]\n",
    "\n",
    "# Plot Confusion Matrix\n",
    "plot_confusion_matrix(gs_pipe4, X_test, y_test, cmap='Blues', \n",
    "                      display_labels=['r/MentalHealth', 'r/SuicideWatch'],\n",
    "                      normalize='true');  \n",
    "plt.title(label=\"Model 4: TfidfVec | RandomForest\", fontsize=14)\n",
    "plt.grid(False)"
   ]
  },
  {
   "cell_type": "code",
   "execution_count": 86,
   "id": "4abf8479",
   "metadata": {},
   "outputs": [
    {
     "data": {
      "text/html": [
       "<div>\n",
       "<style scoped>\n",
       "    .dataframe tbody tr th:only-of-type {\n",
       "        vertical-align: middle;\n",
       "    }\n",
       "\n",
       "    .dataframe tbody tr th {\n",
       "        vertical-align: top;\n",
       "    }\n",
       "\n",
       "    .dataframe thead th {\n",
       "        text-align: right;\n",
       "    }\n",
       "</style>\n",
       "<table border=\"1\" class=\"dataframe\">\n",
       "  <thead>\n",
       "    <tr style=\"text-align: right;\">\n",
       "      <th></th>\n",
       "      <th>transformer_estimator</th>\n",
       "      <th>best_score</th>\n",
       "      <th>accuracy</th>\n",
       "      <th>sensitivity</th>\n",
       "      <th>specificity</th>\n",
       "      <th>best_params</th>\n",
       "    </tr>\n",
       "  </thead>\n",
       "  <tbody>\n",
       "    <tr>\n",
       "      <th>1</th>\n",
       "      <td>CountVec | LogisticRegression</td>\n",
       "      <td>0.786</td>\n",
       "      <td>0.783</td>\n",
       "      <td>0.751</td>\n",
       "      <td>0.808</td>\n",
       "      <td>{'cvec1__max_df': 0.95, 'cvec1__max_features':...</td>\n",
       "    </tr>\n",
       "    <tr>\n",
       "      <th>2</th>\n",
       "      <td>TfidfVec | LogisticRegression</td>\n",
       "      <td>0.792</td>\n",
       "      <td>0.792</td>\n",
       "      <td>0.739</td>\n",
       "      <td>0.834</td>\n",
       "      <td>{'logreg2__max_iter': 1000, 'tfvec2__max_df': ...</td>\n",
       "    </tr>\n",
       "    <tr>\n",
       "      <th>3</th>\n",
       "      <td>TfidfVec | MultinomialNB</td>\n",
       "      <td>0.774</td>\n",
       "      <td>0.775</td>\n",
       "      <td>0.644</td>\n",
       "      <td>0.877</td>\n",
       "      <td>{'nb3__alpha': 0.37, 'tfvec3__max_df': 0.95, '...</td>\n",
       "    </tr>\n",
       "    <tr>\n",
       "      <th>4</th>\n",
       "      <td>TfidfVec | RandomForest</td>\n",
       "      <td>0.781</td>\n",
       "      <td>0.776</td>\n",
       "      <td>0.704</td>\n",
       "      <td>0.833</td>\n",
       "      <td>{'rf__max_features': 'sqrt', 'rf__n_estimators...</td>\n",
       "    </tr>\n",
       "  </tbody>\n",
       "</table>\n",
       "</div>"
      ],
      "text/plain": [
       "           transformer_estimator  best_score  accuracy  sensitivity  \\\n",
       "1  CountVec | LogisticRegression       0.786     0.783        0.751   \n",
       "2  TfidfVec | LogisticRegression       0.792     0.792        0.739   \n",
       "3       TfidfVec | MultinomialNB       0.774     0.775        0.644   \n",
       "4        TfidfVec | RandomForest       0.781     0.776        0.704   \n",
       "\n",
       "   specificity                                        best_params  \n",
       "1        0.808  {'cvec1__max_df': 0.95, 'cvec1__max_features':...  \n",
       "2        0.834  {'logreg2__max_iter': 1000, 'tfvec2__max_df': ...  \n",
       "3        0.877  {'nb3__alpha': 0.37, 'tfvec3__max_df': 0.95, '...  \n",
       "4        0.833  {'rf__max_features': 'sqrt', 'rf__n_estimators...  "
      ]
     },
     "metadata": {},
     "output_type": "display_data"
    }
   ],
   "source": [
    "display(summary_df)"
   ]
  },
  {
   "cell_type": "markdown",
   "id": "24318bb2",
   "metadata": {},
   "source": [
    "Looking at the results, the best score and accuracy are quite similar for all models, but sensitivity and specificity is a lot more varied. \n",
    "\n",
    "Hence to answer our research question, we would prioritize specificity, and would choose model 3, TfidfVec with MultinomialNB."
   ]
  },
  {
   "cell_type": "markdown",
   "id": "dea52e4b",
   "metadata": {},
   "source": [
    "#### Error Analysis and Model Tuning"
   ]
  },
  {
   "cell_type": "markdown",
   "id": "d0cb0ee9",
   "metadata": {},
   "source": [
    "We would do a False Postive error analysis on the results model 3 by flair category, of particular interest would be the false positive rate of the `Positive` category of flairs which we would expect low false positives as these are expected to be of happier sentiment.\n",
    "\n",
    "We will look at the posts wrongly classified as r/SuicideWatch in the `Positive` category, and compare the keywords with True Positive in r/SuicideWatch. For the closely overlapping keywords, we will add this to the stopwords list and rerun the classification model."
   ]
  },
  {
   "cell_type": "code",
   "execution_count": 196,
   "id": "c3d2c581",
   "metadata": {},
   "outputs": [
    {
     "name": "stderr",
     "output_type": "stream",
     "text": [
      "C:\\Users\\deang\\anaconda3\\envs\\dsi\\lib\\site-packages\\sklearn\\utils\\deprecation.py:87: FutureWarning: Function plot_roc_curve is deprecated; Function :func:`plot_roc_curve` is deprecated in 1.0 and will be removed in 1.2. Use one of the class methods: :meth:`sklearn.metric.RocCurveDisplay.from_predictions` or :meth:`sklearn.metric.RocCurveDisplay.from_estimator`.\n",
      "  warnings.warn(msg, category=FutureWarning)\n"
     ]
    },
    {
     "data": {
      "image/png": "[encoded data removed]",
      "text/plain": [
       "<Figure size 432x288 with 1 Axes>"
      ]
     },
     "metadata": {},
     "output_type": "display_data"
    }
   ],
   "source": [
    "# Plot ROC curve\n",
    "plot_roc_curve(gs_pipe3, X_test, y_test)\n",
    "plt.plot([0, 1], [0, 1],\n",
    "         label='baseline', linestyle='--')\n",
    "plt.legend();"
   ]
  },
  {
   "cell_type": "markdown",
   "id": "3abb28ec",
   "metadata": {},
   "source": [
    "Processing results: Add result column and create confusion matrix category columns"
   ]
  },
  {
   "cell_type": "code",
   "execution_count": 197,
   "id": "2c25b10e",
   "metadata": {},
   "outputs": [],
   "source": [
    "# Add predictions to df_processed\n",
    "df_processed['predict'] = gs_pipe3.predict(X)"
   ]
  },
  {
   "cell_type": "code",
   "execution_count": 198,
   "id": "a8a05cc6",
   "metadata": {},
   "outputs": [],
   "source": [
    "# False positives\n",
    "df_processed['false_positive'] = (df_processed[\"predict\"]==1) & (df_processed[\"is_suicidewatch\"]==0)"
   ]
  },
  {
   "cell_type": "code",
   "execution_count": 199,
   "id": "b9fe6717",
   "metadata": {},
   "outputs": [],
   "source": [
    "# False negatives\n",
    "df_processed['false_negative'] = (df_processed[\"predict\"]==0) & (df_processed[\"is_suicidewatch\"]==1)"
   ]
  },
  {
   "cell_type": "code",
   "execution_count": 200,
   "id": "86d597b8",
   "metadata": {},
   "outputs": [],
   "source": [
    "# True positives\n",
    "df_processed['true_positive'] = (df_processed[\"predict\"]==1) & (df_processed[\"is_suicidewatch\"]==1)"
   ]
  },
  {
   "cell_type": "code",
   "execution_count": 201,
   "id": "8dd2b310",
   "metadata": {},
   "outputs": [],
   "source": [
    "# True negatives\n",
    "df_processed['true_negative'] = (df_processed[\"predict\"]==0) & (df_processed[\"is_suicidewatch\"]==0)"
   ]
  },
  {
   "cell_type": "markdown",
   "id": "f5c957e8",
   "metadata": {},
   "source": [
    "Calculate the False Positive Rate by flair_group"
   ]
  },
  {
   "cell_type": "code",
   "execution_count": 202,
   "id": "5b0e2dea",
   "metadata": {},
   "outputs": [],
   "source": [
    "# Create DataFrame with count of false positives by flair_group\n",
    "fp_analysis = df_processed[df_processed['false_positive']==True].value_counts('flair_group').to_frame()"
   ]
  },
  {
   "cell_type": "code",
   "execution_count": 203,
   "id": "6bafe7d4",
   "metadata": {},
   "outputs": [],
   "source": [
    "# Add to DataFrame the count all negatives by flair_group\n",
    "fp_analysis['total']= df_processed[df_processed['is_suicidewatch']==False].value_counts('flair_group')"
   ]
  },
  {
   "cell_type": "code",
   "execution_count": 204,
   "id": "54d8e31a",
   "metadata": {},
   "outputs": [],
   "source": [
    "# Rename columns\n",
    "fp_analysis.rename(columns={0:'fp','total':'all neg'},inplace=True)"
   ]
  },
  {
   "cell_type": "code",
   "execution_count": 205,
   "id": "9708ccf9",
   "metadata": {},
   "outputs": [],
   "source": [
    "# Divide false positive by all negative to get False Positive Rate\n",
    "fp_analysis['false positive rate'] = round((fp_analysis['fp'] / fp_analysis['all neg']),3)"
   ]
  },
  {
   "cell_type": "code",
   "execution_count": 206,
   "id": "d5fcfd3e",
   "metadata": {},
   "outputs": [
    {
     "data": {
      "text/html": [
       "<div>\n",
       "<style scoped>\n",
       "    .dataframe tbody tr th:only-of-type {\n",
       "        vertical-align: middle;\n",
       "    }\n",
       "\n",
       "    .dataframe tbody tr th {\n",
       "        vertical-align: top;\n",
       "    }\n",
       "\n",
       "    .dataframe thead th {\n",
       "        text-align: right;\n",
       "    }\n",
       "</style>\n",
       "<table border=\"1\" class=\"dataframe\">\n",
       "  <thead>\n",
       "    <tr style=\"text-align: right;\">\n",
       "      <th></th>\n",
       "      <th>fp</th>\n",
       "      <th>all neg</th>\n",
       "      <th>false positive rate</th>\n",
       "    </tr>\n",
       "    <tr>\n",
       "      <th>flair_group</th>\n",
       "      <th></th>\n",
       "      <th></th>\n",
       "      <th></th>\n",
       "    </tr>\n",
       "  </thead>\n",
       "  <tbody>\n",
       "    <tr>\n",
       "      <th>Distressed</th>\n",
       "      <td>916</td>\n",
       "      <td>5345</td>\n",
       "      <td>0.171</td>\n",
       "    </tr>\n",
       "    <tr>\n",
       "      <th>None</th>\n",
       "      <td>688</td>\n",
       "      <td>5501</td>\n",
       "      <td>0.125</td>\n",
       "    </tr>\n",
       "    <tr>\n",
       "      <th>Question</th>\n",
       "      <td>146</td>\n",
       "      <td>3049</td>\n",
       "      <td>0.048</td>\n",
       "    </tr>\n",
       "    <tr>\n",
       "      <th>Opinion / Thoughts</th>\n",
       "      <td>65</td>\n",
       "      <td>1019</td>\n",
       "      <td>0.064</td>\n",
       "    </tr>\n",
       "    <tr>\n",
       "      <th>Positive</th>\n",
       "      <td>47</td>\n",
       "      <td>387</td>\n",
       "      <td>0.121</td>\n",
       "    </tr>\n",
       "    <tr>\n",
       "      <th>Neutral</th>\n",
       "      <td>2</td>\n",
       "      <td>181</td>\n",
       "      <td>0.011</td>\n",
       "    </tr>\n",
       "  </tbody>\n",
       "</table>\n",
       "</div>"
      ],
      "text/plain": [
       "                     fp  all neg  false positive rate\n",
       "flair_group                                          \n",
       "Distressed          916     5345                0.171\n",
       "None                688     5501                0.125\n",
       "Question            146     3049                0.048\n",
       "Opinion / Thoughts   65     1019                0.064\n",
       "Positive             47      387                0.121\n",
       "Neutral               2      181                0.011"
      ]
     },
     "execution_count": 206,
     "metadata": {},
     "output_type": "execute_result"
    }
   ],
   "source": [
    "# display False Positive Rate table\n",
    "fp_analysis"
   ]
  },
  {
   "cell_type": "code",
   "execution_count": 226,
   "id": "a41637c5",
   "metadata": {},
   "outputs": [
    {
     "data": {
      "text/plain": [
       "1864"
      ]
     },
     "execution_count": 226,
     "metadata": {},
     "output_type": "execute_result"
    }
   ],
   "source": [
    "T# Total False Positives\n",
    "df_processed['false_positive'].sum()"
   ]
  },
  {
   "cell_type": "markdown",
   "id": "7ece9499",
   "metadata": {},
   "source": [
    "Above is the rate of r/MentalHealth posts falsely classified as r/SuicideWatch\n",
    "\n",
    "It was expected that we have high false positives from the Distressed category. Also, None is an unsorted category, so high false positive rate is expected as well. However what is surprising is that the positive category also had a high positive rate, although it was small."
   ]
  },
  {
   "cell_type": "code",
   "execution_count": 208,
   "id": "b007cbeb",
   "metadata": {},
   "outputs": [],
   "source": [
    "# Instantiate TfidfVectorizer using best parameters of model 3\n",
    "tvec = TfidfVectorizer(\n",
    "    stop_words= custom_stopwords,\n",
    "    strip_accents = 'ascii',\n",
    "    max_features = 500,\n",
    "    max_df = 0.95,\n",
    "    min_df = 0.03,\n",
    "    ngram_range= (1,2)\n",
    ")"
   ]
  },
  {
   "cell_type": "code",
   "execution_count": 209,
   "id": "d49f0b0a",
   "metadata": {},
   "outputs": [],
   "source": [
    "# additional columns newly created\n",
    "add_col = ['link_flair_text', 'flair_group', 'is_suicidewatch','predict', \n",
    "           'false_positive','false_negative','true_positive','true_negative']"
   ]
  },
  {
   "cell_type": "code",
   "execution_count": 210,
   "id": "5a4530eb",
   "metadata": {},
   "outputs": [
    {
     "name": "stderr",
     "output_type": "stream",
     "text": [
      "C:\\Users\\deang\\anaconda3\\envs\\dsi\\lib\\site-packages\\sklearn\\utils\\deprecation.py:87: FutureWarning: Function get_feature_names is deprecated; get_feature_names is deprecated in 1.0 and will be removed in 1.2. Please use get_feature_names_out instead.\n",
      "  warnings.warn(msg, category=FutureWarning)\n"
     ]
    }
   ],
   "source": [
    "# Fit the vectorizer on our corpus.\n",
    "tvec.fit(X)\n",
    "# Transform the corpus.\n",
    "X_t = tvec.transform(X)\n",
    "# Save result to dataframe\n",
    "X_df = pd.DataFrame(X_t.todense(), columns=tvec.get_feature_names())"
   ]
  },
  {
   "cell_type": "code",
   "execution_count": 211,
   "id": "0e1e2c8e",
   "metadata": {},
   "outputs": [],
   "source": [
    "# Adding the target values to the DataFrame\n",
    "common_words = pd.concat([df_processed[add_col], X_df], axis = 1)"
   ]
  },
  {
   "cell_type": "code",
   "execution_count": 212,
   "id": "722dd777",
   "metadata": {},
   "outputs": [
    {
     "data": {
      "image/png": "[encoded data removed]",
      "text/plain": [
       "<Figure size 720x360 with 2 Axes>"
      ]
     },
     "metadata": {},
     "output_type": "display_data"
    }
   ],
   "source": [
    "# plot top 20 words for false positive in 'positive' flair category, \n",
    "# and all true positives in r/SuicideWatch\n",
    "fig, (ax1, ax2) = plt.subplots(1, 2, figsize=(10,5))\n",
    "\n",
    "common_words[ \\\n",
    "    (common_words['is_suicidewatch']==False) & (common_words['flair_group']=='Positive') \\\n",
    "    ].drop(columns=add_col) \\\n",
    "    .sum().sort_values(ascending=False).head(20).plot(kind='barh', ax=ax1)\n",
    "\n",
    "ax1.set_title(f'\\'Positive\\' Category Wrongly Classified')\n",
    "\n",
    "common_words[ \\\n",
    "    (common_words['is_suicidewatch']==True) & (common_words['true_positive']==True) \\\n",
    "    ].drop(columns=add_col) \\\n",
    "    .sum().sort_values(ascending=False).head(20).plot(kind='barh', ax=ax2)\n",
    "\n",
    "ax2.set_title(f'r/SuicideWatch True Positive')\n",
    "\n",
    "plt.suptitle('False Negative Analysis', fontsize=18)\n",
    "plt.tight_layout()"
   ]
  },
  {
   "cell_type": "code",
   "execution_count": 215,
   "id": "046e18fb",
   "metadata": {},
   "outputs": [],
   "source": [
    "# Add top 2 common words to stopwords that are close together in ranking\n",
    "custom_stopwords = custom_stopwords + ['like','feel']"
   ]
  },
  {
   "cell_type": "code",
   "execution_count": 216,
   "id": "97abc093",
   "metadata": {},
   "outputs": [],
   "source": [
    "# Set up MultinomialNB and TfidfVectorizer pipeline\n",
    "pipe5 = Pipeline([\n",
    "    ('tfvec5', TfidfVectorizer(stop_words= custom_stopwords)),\n",
    "    ('nb5', MultinomialNB())\n",
    "])"
   ]
  },
  {
   "cell_type": "code",
   "execution_count": 217,
   "id": "4dfe56f3",
   "metadata": {},
   "outputs": [],
   "source": [
    "# Define parameters based on best parameters of model 3 \n",
    "pipe5_params = {\n",
    "    'tfvec5__max_features': [500],\n",
    "    'tfvec5__min_df': [.03],\n",
    "    'tfvec5__max_df': [.95],\n",
    "    'tfvec5__ngram_range': [(1,2)],\n",
    "    'nb5__alpha': [0.37]\n",
    "}"
   ]
  },
  {
   "cell_type": "code",
   "execution_count": 218,
   "id": "366c3312",
   "metadata": {},
   "outputs": [],
   "source": [
    "# Instantiate GridSearchCV.\n",
    "gs_pipe5 = GridSearchCV(pipe5, param_grid=pipe5_params, cv=5, verbose=1, n_jobs=-1)"
   ]
  },
  {
   "cell_type": "code",
   "execution_count": 219,
   "id": "56fab85e",
   "metadata": {},
   "outputs": [
    {
     "name": "stdout",
     "output_type": "stream",
     "text": [
      "Fitting 5 folds for each of 1 candidates, totalling 5 fits\n"
     ]
    }
   ],
   "source": [
    "# Fit GridSearch to training data.\n",
    "gs_pipe5.fit(X_train, y_train);"
   ]
  },
  {
   "cell_type": "code",
   "execution_count": 220,
   "id": "37a6d86e",
   "metadata": {},
   "outputs": [
    {
     "data": {
      "text/plain": [
       "{'nb5__alpha': 0.37,\n",
       " 'tfvec5__max_df': 0.95,\n",
       " 'tfvec5__max_features': 500,\n",
       " 'tfvec5__min_df': 0.03,\n",
       " 'tfvec5__ngram_range': (1, 2)}"
      ]
     },
     "execution_count": 220,
     "metadata": {},
     "output_type": "execute_result"
    }
   ],
   "source": [
    "# Best parameters of TfidfVectorizer and MultinomialNB.\n",
    "gs_pipe5.best_params_"
   ]
  },
  {
   "cell_type": "code",
   "execution_count": 221,
   "id": "1ec178d3",
   "metadata": {},
   "outputs": [
    {
     "name": "stdout",
     "output_type": "stream",
     "text": [
      "TfidfVectorizer with MultinomialNB summary of accuracy scores:\n",
      "GridSearchCV best accuracy = 0.773\n",
      "\n",
      "Using GridSearchCV best params suggested,\n",
      "Training corpus accuracy = 0.778\n",
      "Testing corpus accuracy = 0.771\n"
     ]
    }
   ],
   "source": [
    "# Summary scores of TfidfVectorizer and MultinomialNB.\n",
    "print(\"TfidfVectorizer with MultinomialNB summary of accuracy scores:\")\n",
    "print(f\"GridSearchCV best accuracy = {round(gs_pipe5.best_score_, 3)}\")\n",
    "print(\"\\nUsing GridSearchCV best params suggested,\")\n",
    "print(f\"Training corpus accuracy = {round(gs_pipe5.score(X_train, y_train), 3)}\")\n",
    "print(f\"Testing corpus accuracy = {round(gs_pipe5.score(X_test, y_test), 3)}\")"
   ]
  },
  {
   "cell_type": "code",
   "execution_count": 223,
   "id": "e3946f9a",
   "metadata": {},
   "outputs": [
    {
     "name": "stderr",
     "output_type": "stream",
     "text": [
      "C:\\Users\\deang\\anaconda3\\envs\\dsi\\lib\\site-packages\\sklearn\\utils\\deprecation.py:87: FutureWarning: Function plot_confusion_matrix is deprecated; Function `plot_confusion_matrix` is deprecated in 1.0 and will be removed in 1.2. Use one of the class methods: ConfusionMatrixDisplay.from_predictions or ConfusionMatrixDisplay.from_estimator.\n",
      "  warnings.warn(msg, category=FutureWarning)\n"
     ]
    },
    {
     "data": {
      "image/png": "[encoded data removed]",
      "text/plain": [
       "<Figure size 432x288 with 2 Axes>"
      ]
     },
     "metadata": {},
     "output_type": "display_data"
    }
   ],
   "source": [
    "# Generate confusion matrix\n",
    "y_pred = gs_pipe5.predict(X_test)\n",
    "confusion_matrix(y_test, # True values.\n",
    "                 y_pred)  # Predicted values.\n",
    "tn, fp, fn, tp = confusion_matrix(y_test, y_pred).ravel();\n",
    "\n",
    "# Adding the scores into summary_df.\n",
    "summary_df.loc[5] = [\n",
    "    'TfidfVectorizer (tuned stopwords) | MultinomialNB',\n",
    "    round(gs_pipe5.best_score_, 3),\n",
    "    round(metrics.accuracy_score(y_test, y_pred),3),\n",
    "    round(metrics.recall_score(y_test, y_pred),3),\n",
    "    round(tn/(tn+fp),3),\n",
    "    str(gs_pipe5.best_params_),\n",
    "]\n",
    "\n",
    "# Plot Confusion Matrix\n",
    "plot_confusion_matrix(gs_pipe5, X_test, y_test, cmap='Blues', \n",
    "                      display_labels=['r/MentalHealth', 'r/SuicideWatch'],\n",
    "                      normalize='true');  \n",
    "plt.title(label=\"Model 5: TfidfVec | MultinomialNB with tuned stopwords\", fontsize=14)\n",
    "plt.grid(False)"
   ]
  },
  {
   "cell_type": "code",
   "execution_count": 224,
   "id": "ba264f47",
   "metadata": {},
   "outputs": [
    {
     "data": {
      "text/html": [
       "<div>\n",
       "<style scoped>\n",
       "    .dataframe tbody tr th:only-of-type {\n",
       "        vertical-align: middle;\n",
       "    }\n",
       "\n",
       "    .dataframe tbody tr th {\n",
       "        vertical-align: top;\n",
       "    }\n",
       "\n",
       "    .dataframe thead th {\n",
       "        text-align: right;\n",
       "    }\n",
       "</style>\n",
       "<table border=\"1\" class=\"dataframe\">\n",
       "  <thead>\n",
       "    <tr style=\"text-align: right;\">\n",
       "      <th></th>\n",
       "      <th>transformer_estimator</th>\n",
       "      <th>best_score</th>\n",
       "      <th>accuracy</th>\n",
       "      <th>sensitivity</th>\n",
       "      <th>specificity</th>\n",
       "      <th>best_params</th>\n",
       "    </tr>\n",
       "  </thead>\n",
       "  <tbody>\n",
       "    <tr>\n",
       "      <th>1</th>\n",
       "      <td>CountVec | LogisticRegression</td>\n",
       "      <td>0.786</td>\n",
       "      <td>0.783</td>\n",
       "      <td>0.751</td>\n",
       "      <td>0.808</td>\n",
       "      <td>{'cvec1__max_df': 0.95, 'cvec1__max_features':...</td>\n",
       "    </tr>\n",
       "    <tr>\n",
       "      <th>2</th>\n",
       "      <td>TfidfVec | LogisticRegression</td>\n",
       "      <td>0.792</td>\n",
       "      <td>0.792</td>\n",
       "      <td>0.739</td>\n",
       "      <td>0.834</td>\n",
       "      <td>{'logreg2__max_iter': 1000, 'tfvec2__max_df': ...</td>\n",
       "    </tr>\n",
       "    <tr>\n",
       "      <th>3</th>\n",
       "      <td>TfidfVec | MultinomialNB</td>\n",
       "      <td>0.774</td>\n",
       "      <td>0.775</td>\n",
       "      <td>0.644</td>\n",
       "      <td>0.877</td>\n",
       "      <td>{'nb3__alpha': 0.37, 'tfvec3__max_df': 0.95, '...</td>\n",
       "    </tr>\n",
       "    <tr>\n",
       "      <th>4</th>\n",
       "      <td>TfidfVec | RandomForest</td>\n",
       "      <td>0.781</td>\n",
       "      <td>0.776</td>\n",
       "      <td>0.704</td>\n",
       "      <td>0.833</td>\n",
       "      <td>{'rf__max_features': 'sqrt', 'rf__n_estimators...</td>\n",
       "    </tr>\n",
       "    <tr>\n",
       "      <th>5</th>\n",
       "      <td>TfidfVectorizer (tuned stopwords) | MultinomialNB</td>\n",
       "      <td>0.773</td>\n",
       "      <td>0.771</td>\n",
       "      <td>0.642</td>\n",
       "      <td>0.873</td>\n",
       "      <td>{'nb5__alpha': 0.37, 'tfvec5__max_df': 0.95, '...</td>\n",
       "    </tr>\n",
       "  </tbody>\n",
       "</table>\n",
       "</div>"
      ],
      "text/plain": [
       "                               transformer_estimator  best_score  accuracy  \\\n",
       "1                      CountVec | LogisticRegression       0.786     0.783   \n",
       "2                      TfidfVec | LogisticRegression       0.792     0.792   \n",
       "3                           TfidfVec | MultinomialNB       0.774     0.775   \n",
       "4                            TfidfVec | RandomForest       0.781     0.776   \n",
       "5  TfidfVectorizer (tuned stopwords) | MultinomialNB       0.773     0.771   \n",
       "\n",
       "   sensitivity  specificity                                        best_params  \n",
       "1        0.751        0.808  {'cvec1__max_df': 0.95, 'cvec1__max_features':...  \n",
       "2        0.739        0.834  {'logreg2__max_iter': 1000, 'tfvec2__max_df': ...  \n",
       "3        0.644        0.877  {'nb3__alpha': 0.37, 'tfvec3__max_df': 0.95, '...  \n",
       "4        0.704        0.833  {'rf__max_features': 'sqrt', 'rf__n_estimators...  \n",
       "5        0.642        0.873  {'nb5__alpha': 0.37, 'tfvec5__max_df': 0.95, '...  "
      ]
     },
     "execution_count": 224,
     "metadata": {},
     "output_type": "execute_result"
    }
   ],
   "source": [
    "summary_df"
   ]
  },
  {
   "cell_type": "markdown",
   "id": "f37cd682",
   "metadata": {},
   "source": [
    "### Conclusion & Recommendation"
   ]
  },
  {
   "cell_type": "markdown",
   "id": "ae4beb4c",
   "metadata": {},
   "source": [
    "We would recommend TfidfVectorizer with MultinomialNB as the better model for building a classification model for the purposes of building a filter to filter out incorrect or abusive flags of posts that contain thoughts of suicide.\n",
    "\n",
    "Based on our false positive analysis, we tuned out two stop words and successfull increased specificity as intended. However, this came at the cost of other metrics. I believe that the 4 percentage point improvement is noteworthy given that the data used for stop words tuning was only 3% of the total false positive results."
   ]
  },
  {
   "cell_type": "markdown",
   "id": "b4a02622",
   "metadata": {},
   "source": [
    "### Next Steps"
   ]
  },
  {
   "cell_type": "markdown",
   "id": "1c5ad502",
   "metadata": {},
   "source": [
    "Further studies could involve Topic Modelling and Sentiment Analysis to group posts by topic to further improve tuning of the model.\n"
   ]
  }
 ],
 "metadata": {
  "kernelspec": {
   "display_name": "Python 3 (ipykernel)",
   "language": "python",
   "name": "python3"
  },
  "language_info": {
   "codemirror_mode": {
    "name": "ipython",
    "version": 3
   },
   "file_extension": ".py",
   "mimetype": "text/x-python",
   "name": "python",
   "nbconvert_exporter": "python",
   "pygments_lexer": "ipython3",
   "version": "3.8.12"
  }
 },
 "nbformat": 4,
 "nbformat_minor": 5
}
